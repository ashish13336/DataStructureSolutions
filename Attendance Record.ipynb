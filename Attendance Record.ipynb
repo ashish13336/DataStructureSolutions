{
 "cells": [
  {
   "cell_type": "markdown",
   "metadata": {},
   "source": [
    "Leetcode Scenario:\n",
    "\n",
    "You are given a string representing an attendance record for a student. The record only contains the following three characters:\n",
    "'A' : Absent.\n",
    "'L' : Late.\n",
    "'P' : Present.\n",
    "A student could be rewarded if his attendance record doesn't contain more than one 'A' (absent) or more than two continuous 'L' (late).\n",
    "\n",
    "You need to return whether the student could be rewarded according to his attendance record.\n",
    "\n",
    "Example 1:\n",
    "Input: \"PPALLP\"\n",
    "Output: True\n",
    "Example 2:\n",
    "Input: \"PPALLL\"\n",
    "Output: False"
   ]
  },
  {
   "cell_type": "code",
   "execution_count": 22,
   "metadata": {},
   "outputs": [],
   "source": [
    "class Solution(object):\n",
    "    def __init__(self,s):\n",
    "        self.s = s\n",
    "    def checkRecord(self):\n",
    "        attend = self.s\n",
    "        count = 0\n",
    "        for i in range(len(attend)):\n",
    "            if (attend[i] == \"A\"):\n",
    "                count = count + 1\n",
    "            if (attend[i] == 'L' and attend[i+1] == 'L' and attend[i+2] == 'L'):\n",
    "                reward = 0\n",
    "                if(reward == 0):\n",
    "                    break\n",
    "                else:\n",
    "                    continue\n",
    "            else:\n",
    "                reward = 1\n",
    "        if (count > 1):\n",
    "            reward = 0\n",
    "        return reward\n",
    "    "
   ]
  },
  {
   "cell_type": "code",
   "execution_count": 21,
   "metadata": {},
   "outputs": [
    {
     "name": "stdout",
     "output_type": "stream",
     "text": [
      "Awarded\n"
     ]
    }
   ],
   "source": [
    "a = ['A','P','P','L','L','P']\n",
    "obj = Solution(a)\n",
    "output = obj.checkRecord()\n",
    "if(output == 0):\n",
    "    print(\"No award\")\n",
    "else: \n",
    "    print(\"Awarded\")"
   ]
  }
 ],
 "metadata": {
  "kernelspec": {
   "display_name": "Python 3",
   "language": "python",
   "name": "python3"
  },
  "language_info": {
   "codemirror_mode": {
    "name": "ipython",
    "version": 3
   },
   "file_extension": ".py",
   "mimetype": "text/x-python",
   "name": "python",
   "nbconvert_exporter": "python",
   "pygments_lexer": "ipython3",
   "version": "3.6.7"
  }
 },
 "nbformat": 4,
 "nbformat_minor": 2
}

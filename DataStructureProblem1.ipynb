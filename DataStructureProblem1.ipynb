{
 "cells": [
  {
   "cell_type": "code",
   "execution_count": null,
   "metadata": {},
   "outputs": [],
   "source": [
    "# Implement a function that accepts two integers arrays 'arr1' and 'arr2' of sizes n and m respectively as its argument \n",
    "# to find and return the sum of all uncommon elements in two arrays(elements which are present in only one of the array). \n",
    "# Print -1 if both arrays are null. If one of the arrays is null then return the sum of all elements of the other array.\n",
    "\n",
    "arr1 = [1,2,4,3,5,7]\n",
    "arr2 = [3,7,5,9,8,0,6]"
   ]
  },
  {
   "cell_type": "code",
   "execution_count": null,
   "metadata": {},
   "outputs": [],
   "source": [
    "sum1 = sum(arr1)\n",
    "sum2 = sum(arr2)\n",
    "sumcommon = 0\n",
    "sumuncommon = 0"
   ]
  },
  {
   "cell_type": "code",
   "execution_count": null,
   "metadata": {
    "scrolled": true
   },
   "outputs": [],
   "source": [
    "if (len(arr1) != 0 and len(arr2) != 0):\n",
    "    for i in range(len(arr1)):\n",
    "        for j in range(len(arr2)):\n",
    "            if (arr1[i] == arr2[j]):\n",
    "                sumcommon += arr1[i]\n",
    "                arr2[j] = 0\n",
    "    sumuncommon = sum(arr2)\n",
    "    sum1 = (sum1-sumcommon+sumuncommon)\n",
    "    print(sum1)\n",
    "    \n",
    "elif(len(arr1) == 0 and len(arr2) != 0):\n",
    "    print(sum2)\n",
    "\n",
    "elif(len(arr2) == 0 and len(arr1) != 0):\n",
    "    print(sum1)\n",
    "    \n",
    "elif(len(arr1) == 0 and len(arr2) == 0): \n",
    "    print(\"-1\")\n",
    "    "
   ]
  },
  {
   "cell_type": "code",
   "execution_count": null,
   "metadata": {},
   "outputs": [],
   "source": []
  },
  {
   "cell_type": "code",
   "execution_count": null,
   "metadata": {},
   "outputs": [],
   "source": []
  },
  {
   "cell_type": "code",
   "execution_count": null,
   "metadata": {},
   "outputs": [],
   "source": []
  },
  {
   "cell_type": "code",
   "execution_count": null,
   "metadata": {},
   "outputs": [],
   "source": []
  }
 ],
 "metadata": {
  "kernelspec": {
   "display_name": "Python 3",
   "language": "python",
   "name": "python3"
  },
  "language_info": {
   "codemirror_mode": {
    "name": "ipython",
    "version": 3
   },
   "file_extension": ".py",
   "mimetype": "text/x-python",
   "name": "python",
   "nbconvert_exporter": "python",
   "pygments_lexer": "ipython3",
   "version": "3.6.7"
  }
 },
 "nbformat": 4,
 "nbformat_minor": 2
}

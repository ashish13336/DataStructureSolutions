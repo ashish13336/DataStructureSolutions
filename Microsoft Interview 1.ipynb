{
 "cells": [
  {
   "cell_type": "markdown",
   "metadata": {},
   "source": [
    "Write a program that, given an array A consisting of N integers, return the maximum sum of two numbers whose digits add up to an equal sum."
   ]
  },
  {
   "cell_type": "code",
   "execution_count": null,
   "metadata": {},
   "outputs": [],
   "source": [
    "import numpy as np\n",
    "arr = [51,71,17,42]\n",
    "arr1=[]"
   ]
  },
  {
   "cell_type": "code",
   "execution_count": null,
   "metadata": {},
   "outputs": [],
   "source": [
    "for i in range(len(arr)):\n",
    "    num = 0\n",
    "    arraynum = arr[i]\n",
    "    while arraynum > 0:\n",
    "        num += arraynum%10\n",
    "        arraynum = int(arraynum /10)\n",
    "    print(num)\n",
    "    arr1.append(num)"
   ]
  },
  {
   "cell_type": "code",
   "execution_count": null,
   "metadata": {},
   "outputs": [],
   "source": [
    "\n",
    "arr1 = np.array(arr1)\n",
    "for j in range(len(arr1)):\n",
    "    sumall = []\n",
    "    totalsum = 0 \n",
    "    for k in range(j+1, len(arr1)):\n",
    "        if (arr1[j] == arr1[k]):\n",
    "            totalsum = arr[j] + arr[k]\n",
    "            sumall.extend([arr[j],arr[k]])\n",
    "    print(sumall)\n"
   ]
  },
  {
   "cell_type": "code",
   "execution_count": null,
   "metadata": {},
   "outputs": [],
   "source": [
    "\n"
   ]
  },
  {
   "cell_type": "code",
   "execution_count": null,
   "metadata": {},
   "outputs": [],
   "source": []
  }
 ],
 "metadata": {
  "kernelspec": {
   "display_name": "Python 3",
   "language": "python",
   "name": "python3"
  },
  "language_info": {
   "codemirror_mode": {
    "name": "ipython",
    "version": 3
   },
   "file_extension": ".py",
   "mimetype": "text/x-python",
   "name": "python",
   "nbconvert_exporter": "python",
   "pygments_lexer": "ipython3",
   "version": "3.6.7"
  }
 },
 "nbformat": 4,
 "nbformat_minor": 2
}

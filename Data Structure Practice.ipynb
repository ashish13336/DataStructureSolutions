{
 "cells": [
  {
   "cell_type": "code",
   "execution_count": 40,
   "metadata": {},
   "outputs": [
    {
     "name": "stdout",
     "output_type": "stream",
     "text": [
      "[0, 0, 1, 1, 2, 3]\n"
     ]
    }
   ],
   "source": [
    "#Sort the array\n",
    "list1 = [2,1,0,0,3,1]\n",
    "list1.sort()\n",
    "print(list1)"
   ]
  },
  {
   "cell_type": "code",
   "execution_count": 52,
   "metadata": {},
   "outputs": [
    {
     "name": "stdout",
     "output_type": "stream",
     "text": [
      "[1, 2, 3, 4, 5, 6, 7, 8, 10, 11, 12, 13]\n"
     ]
    }
   ],
   "source": [
    "#Given an array consisting many inner arrays, flatten the array into one: example: input: [[6,4,7,[9,5,4,[2,4,8]]],[2,2,7],[9,0,7,[9,3,1,8,5]]] output: [6,4,7,9,5,4,2,4,8,2,2,7,9,0,7,9,3,1,8,5]\n",
    "\n",
    "nestedlist = [[1,2,3,4],\n",
    "             [5,6,7,8],\n",
    "             [10,11,12,13]]\n",
    "\n",
    "output = []\n",
    "for i in nestedlist:\n",
    "    length = len(i)\n",
    "    for j in range(length):\n",
    "        output.append(i[j])\n",
    "print(output)\n",
    "        "
   ]
  },
  {
   "cell_type": "code",
   "execution_count": 55,
   "metadata": {},
   "outputs": [
    {
     "name": "stdout",
     "output_type": "stream",
     "text": [
      "4 3\n",
      "3 4\n",
      "2 6\n",
      "6 2\n"
     ]
    }
   ],
   "source": [
    "#Given an array of distinct elements and a number x, find if there is a pair with product equal to x.\n",
    "\n",
    "number = [1,4,3,2,5,6,7,8,9]\n",
    "product = 12 \n",
    "\n",
    "for i in number:\n",
    "    for j in number:\n",
    "        if ( i * j == product):\n",
    "            print(i,j)\n"
   ]
  },
  {
   "cell_type": "code",
   "execution_count": 56,
   "metadata": {},
   "outputs": [
    {
     "data": {
      "text/plain": [
       "'C:\\\\Users\\\\ashishsh'"
      ]
     },
     "execution_count": 56,
     "metadata": {},
     "output_type": "execute_result"
    }
   ],
   "source": []
  }
 ],
 "metadata": {
  "kernelspec": {
   "display_name": "Python 3",
   "language": "python",
   "name": "python3"
  },
  "language_info": {
   "codemirror_mode": {
    "name": "ipython",
    "version": 3
   },
   "file_extension": ".py",
   "mimetype": "text/x-python",
   "name": "python",
   "nbconvert_exporter": "python",
   "pygments_lexer": "ipython3",
   "version": "3.6.7"
  }
 },
 "nbformat": 4,
 "nbformat_minor": 2
}
